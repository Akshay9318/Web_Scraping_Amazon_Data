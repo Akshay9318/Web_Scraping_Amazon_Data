{
 "cells": [
  {
   "cell_type": "code",
   "execution_count": null,
   "id": "520fdefb-0958-4327-ada0-4693b423d3c9",
   "metadata": {},
   "outputs": [],
   "source": [
    "# import libraries\n",
    "\n",
    "from bs4 import BeautifulSoup\n",
    "import requests\n",
    "import datetime\n",
    "import time\n",
    "\n"
   ]
  },
  {
   "cell_type": "code",
   "execution_count": null,
   "id": "41751c39-83ed-4458-b7d0-6b4d25152194",
   "metadata": {
    "scrolled": true
   },
   "outputs": [],
   "source": [
    "# connect to website\n",
    "URL='https://www.amazon.com/Funny-Data-Systems-Business-Analyst/dp/B07FNW9FGJ/ref=sr_1_3?dchild=1&sr=8-3&customId=B0752XJYNL'\n",
    "\n",
    "headers={ \"User-Agent\": \"Mozilla/5.0 (Windows NT 10.0; Win64; x64) AppleWebKit/537.36 (KHTML, like Gecko) Chrome/128.0.0.0 Safari/537.36\", \"Accept-Encoding\": \"gzip, deflate, br, zstd\",\"DNT\":\"1\",\"Connection\":\"close\", \"Upgrade-Insecure-Requests\":\"1\"}\n",
    "\n",
    "page=requests.get(URL,headers=headers)\n",
    "\n",
    "soup1=BeautifulSoup(page.content,\"html.parser\")\n",
    "soup2=BeautifulSoup(soup1.prettify(),\"html.parser\")\n",
    "\n",
    "title=soup2.find(id=\"productTitle\").get_text()\n",
    "price_symbol = soup2.find(class_='a-price-symbol').get_text(strip=True)\n",
    "price_whole = soup2.find(class_='a-price-whole').get_text(strip=True)\n",
    "price_fraction = soup2.find(class_='a-price-fraction').get_text(strip=True)\n",
    "price = f'{price_symbol}{price_whole}{price_fraction}'\n",
    "\n",
    "price=price.strip()[1:]\n",
    "title=title.strip()\n",
    "\n",
    "\n",
    "import datetime\n",
    "today=datetime.date.today()\n",
    "print(today)\n",
    "\n"
   ]
  },
  {
   "cell_type": "code",
   "execution_count": null,
   "id": "a4ea7c68-3b23-4d35-9d46-e3e37d40e50b",
   "metadata": {},
   "outputs": [],
   "source": [
    "import csv\n",
    "header=['Title','Price','Date']\n",
    "data=[title,price,today]\n",
    "\n",
    "with open('AmazonWebScraperDataset.csv', 'w', newline='', encoding='UTF8')as f:\n",
    "    writer=csv.writer(f)\n",
    "    writer.writerow(header)\n",
    "    writer.writerow(data)\n"
   ]
  },
  {
   "cell_type": "code",
   "execution_count": null,
   "id": "b9a36aa5-f5de-4269-83c5-88e53d356d3d",
   "metadata": {},
   "outputs": [],
   "source": [
    "import pandas as pd\n",
    "df=pd.read_csv(r'C:\\Users\\aksha\\exercises python\\AmazonWebScraperDataset.csv')\n",
    "print(df)"
   ]
  },
  {
   "cell_type": "code",
   "execution_count": null,
   "id": "b49cdb9d-f1c0-4b29-9c39-7bc41ba4580e",
   "metadata": {},
   "outputs": [],
   "source": [
    "#Now append the data to the csv\n",
    "with open('AmazonWebScraperDataset.csv', 'a+', newline='', encoding='UTF8')as f:\n",
    "    writer=csv.writer(f)\n",
    "    writer.writerow(data)\n",
    "    "
   ]
  },
  {
   "cell_type": "code",
   "execution_count": 53,
   "id": "4f360b65-e842-47c5-a323-550718284154",
   "metadata": {},
   "outputs": [],
   "source": [
    "def check_price():\n",
    "    URL='https://www.amazon.com/Funny-Data-Systems-Business-Analyst/dp/B07FNW9FGJ/ref=sr_1_3?dchild=1&sr=8-3&customId=B0752XJYNL'\n",
    "\n",
    "    headers={ \"User-Agent\": \"Mozilla/5.0 (Windows NT 10.0; Win64; x64) AppleWebKit/537.36 (KHTML, like Gecko) Chrome/128.0.0.0 Safari/537.36\", \"Accept-Encoding\": \"gzip, deflate, br, zstd\",\"DNT\":\"1\",\"Connection\":\"close\", \"Upgrade-Insecure-Requests\":\"1\"}\n",
    "\n",
    "    page=requests.get(URL,headers=headers)\n",
    "\n",
    "    soup1=BeautifulSoup(page.content,\"html.parser\")\n",
    "    soup2=BeautifulSoup(soup1.prettify(),\"html.parser\")\n",
    "\n",
    "    title=soup2.find(id=\"productTitle\").get_text()\n",
    "    price_symbol = soup2.find(class_='a-price-symbol').get_text(strip=True)\n",
    "    price_whole = soup2.find(class_='a-price-whole').get_text(strip=True)\n",
    "    price_fraction = soup2.find(class_='a-price-fraction').get_text(strip=True)\n",
    "    price = f'{price_symbol}{price_whole}{price_fraction}'\n",
    "    price=price.strip()[1:]\n",
    "    title=title.strip()\n",
    "    import datetime\n",
    "    today=datetime.date.today()\n",
    "    print(today)\n",
    "    import csv\n",
    "    header=['Title','Price','Date']\n",
    "    data=[title,price,today]\n",
    "    with open('AmazonWebScraperDataset.csv', 'a+', newline='', encoding='UTF8')as f:\n",
    "      writer=csv.writer(f)\n",
    "      writer.writerow(data)\n",
    "    \n"
   ]
  },
  {
   "cell_type": "code",
   "execution_count": null,
   "id": "c0f7e6de-4acd-4fd2-8122-76ec2dc9e02b",
   "metadata": {},
   "outputs": [],
   "source": [
    "while(True):\n",
    "    check_price()\n",
    "    time.sleep(86400)"
   ]
  },
  {
   "cell_type": "code",
   "execution_count": 51,
   "id": "bf514a87-6836-4dbb-86ac-c45bf6b051df",
   "metadata": {},
   "outputs": [
    {
     "name": "stdout",
     "output_type": "stream",
     "text": [
      "                                                 Title  Price        Date\n",
      "0    Funny Got Data MIS Data Systems Business Analy...  14.99  2024-09-02\n",
      "1    Funny Got Data MIS Data Systems Business Analy...  14.99  2024-09-02\n",
      "2    Funny Got Data MIS Data Systems Business Analy...  14.99  2024-09-02\n",
      "3    Funny Got Data MIS Data Systems Business Analy...   9.97  2024-09-02\n",
      "4    Funny Got Data MIS Data Systems Business Analy...   9.97  2024-09-02\n",
      "..                                                 ...    ...         ...\n",
      "250  Funny Got Data MIS Data Systems Business Analy...  18.99  2024-09-02\n",
      "251  Funny Got Data MIS Data Systems Business Analy...  14.99  2024-09-02\n",
      "252  Funny Got Data MIS Data Systems Business Analy...   9.97  2024-09-02\n",
      "253  Funny Got Data MIS Data Systems Business Analy...   9.97  2024-09-02\n",
      "254  Funny Got Data MIS Data Systems Business Analy...   9.97  2024-09-02\n",
      "\n",
      "[255 rows x 3 columns]\n"
     ]
    }
   ],
   "source": [
    "import pandas as pd\n",
    "df=pd.read_csv(r'C:\\Users\\aksha\\exercises python\\AmazonWebScraperDataset.csv')\n",
    "print(d"
   ]
  }
 ],
 "metadata": {
  "kernelspec": {
   "display_name": "Python 3 (ipykernel)",
   "language": "python",
   "name": "python3"
  },
  "language_info": {
   "codemirror_mode": {
    "name": "ipython",
    "version": 3
   },
   "file_extension": ".py",
   "mimetype": "text/x-python",
   "name": "python",
   "nbconvert_exporter": "python",
   "pygments_lexer": "ipython3",
   "version": "3.11.7"
  }
 },
 "nbformat": 4,
 "nbformat_minor": 5
}
